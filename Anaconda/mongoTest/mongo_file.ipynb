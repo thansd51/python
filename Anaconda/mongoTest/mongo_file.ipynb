{
 "cells": [
  {
   "cell_type": "code",
   "execution_count": 1,
   "id": "ffb94ebb",
   "metadata": {},
   "outputs": [],
   "source": [
    "# !pip install pymongo"
   ]
  },
  {
   "cell_type": "code",
   "execution_count": 2,
   "id": "5c4a7576",
   "metadata": {},
   "outputs": [
    {
     "data": {
      "text/plain": [
       "Database(MongoClient(host=['localhost:27017'], document_class=dict, tz_aware=False, connect=True), 'python_test')"
      ]
     },
     "execution_count": 2,
     "metadata": {},
     "output_type": "execute_result"
    }
   ],
   "source": [
    "from pymongo import MongoClient\n",
    "from gridfs import GridFS\n",
    "db = MongoClient().python_test\n",
    "db"
   ]
  },
  {
   "cell_type": "code",
   "execution_count": 9,
   "id": "39775ea3",
   "metadata": {},
   "outputs": [
    {
     "data": {
      "text/plain": [
       "<gridfs.GridFS at 0x2213c36fca0>"
      ]
     },
     "execution_count": 9,
     "metadata": {},
     "output_type": "execute_result"
    }
   ],
   "source": [
    "fs = GridFS(db) # 이진 데이터\n",
    "fs"
   ]
  },
  {
   "cell_type": "code",
   "execution_count": 10,
   "id": "31658727",
   "metadata": {},
   "outputs": [
    {
     "name": "stdout",
     "output_type": "stream",
     "text": [
      "<_io.BufferedReader name='test.txt'>\n"
     ]
    }
   ],
   "source": [
    "with open('test.txt', 'rb')as f:\n",
    "    fs.put(f, filename = 'test.txt')\n",
    "    print(f)"
   ]
  },
  {
   "cell_type": "code",
   "execution_count": 11,
   "id": "b530c345",
   "metadata": {},
   "outputs": [
    {
     "name": "stdout",
     "output_type": "stream",
     "text": [
      "1\n"
     ]
    }
   ],
   "source": [
    "fs_list = list(db.fs.files.find())\n",
    "print(len(fs_list))"
   ]
  },
  {
   "cell_type": "code",
   "execution_count": 12,
   "id": "0ffcff84",
   "metadata": {},
   "outputs": [
    {
     "data": {
      "text/plain": [
       "[{'_id': ObjectId('63608dc0c282fbd0865536bd'),\n",
       "  'filename': 'test.txt',\n",
       "  'chunkSize': 261120,\n",
       "  'length': 46,\n",
       "  'uploadDate': datetime.datetime(2022, 11, 1, 3, 8, 48, 851000)}]"
      ]
     },
     "execution_count": 12,
     "metadata": {},
     "output_type": "execute_result"
    }
   ],
   "source": [
    "fs_list"
   ]
  },
  {
   "cell_type": "code",
   "execution_count": 8,
   "id": "a60dd07a",
   "metadata": {},
   "outputs": [
    {
     "data": {
      "text/plain": [
       "'mongo test 몽고DB GRIDFS에 저장할 내용'"
      ]
     },
     "execution_count": 8,
     "metadata": {},
     "output_type": "execute_result"
    }
   ],
   "source": [
    "f = fs.get_last_version(filename = 'test.txt')\n",
    "f_decode = f.read().decode('utf-8')\n",
    "f_decode"
   ]
  },
  {
   "cell_type": "code",
   "execution_count": null,
   "id": "940e076e",
   "metadata": {},
   "outputs": [],
   "source": []
  }
 ],
 "metadata": {
  "kernelspec": {
   "display_name": "Python 3",
   "language": "python",
   "name": "python3"
  },
  "language_info": {
   "codemirror_mode": {
    "name": "ipython",
    "version": 3
   },
   "file_extension": ".py",
   "mimetype": "text/x-python",
   "name": "python",
   "nbconvert_exporter": "python",
   "pygments_lexer": "ipython3",
   "version": "3.8.8"
  }
 },
 "nbformat": 4,
 "nbformat_minor": 5
}
