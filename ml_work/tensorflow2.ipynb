{
 "cells": [
  {
   "cell_type": "markdown",
   "id": "bf8f8477-a53f-4d49-86ed-8946e323a494",
   "metadata": {},
   "source": [
    "# Tensorflow linearRegression"
   ]
  },
  {
   "cell_type": "code",
   "execution_count": 1,
   "id": "2d88837b-3614-4291-8c8f-d15a43118240",
   "metadata": {},
   "outputs": [
    {
     "name": "stdout",
     "output_type": "stream",
     "text": [
      "WARNING:tensorflow:From C:\\Users\\admin\\anaconda3\\lib\\site-packages\\tensorflow\\python\\compat\\v2_compat.py:107: disable_resource_variables (from tensorflow.python.ops.variable_scope) is deprecated and will be removed in a future version.\n",
      "Instructions for updating:\n",
      "non-resource variables are not supported in the long term\n"
     ]
    }
   ],
   "source": [
    "import tensorflow as tf\n",
    "import tensorflow.compat.v1 as tf\n",
    "tf.disable_v2_behavior()"
   ]
  },
  {
   "cell_type": "code",
   "execution_count": 2,
   "id": "9a6df36a-8be7-4e6f-9047-3940aef7f20d",
   "metadata": {},
   "outputs": [],
   "source": [
    "tf.set_random_seed(777)"
   ]
  },
  {
   "cell_type": "code",
   "execution_count": 3,
   "id": "06939d21-5694-4f46-ab08-193151d86592",
   "metadata": {},
   "outputs": [],
   "source": [
    "x_data = [1, 2, 3, 4, 5]\n",
    "t_data = [2, 3, 4, 5, 6]"
   ]
  },
  {
   "cell_type": "code",
   "execution_count": 4,
   "id": "4684264a-cdf6-4d4f-94eb-29fd3d27b470",
   "metadata": {},
   "outputs": [
    {
     "name": "stdout",
     "output_type": "stream",
     "text": [
      "w= <tf.Variable 'weight:0' shape=(1,) dtype=float32_ref> \n",
      "b= <tf.Variable 'bias:0' shape=(1,) dtype=float32_ref>\n"
     ]
    }
   ],
   "source": [
    "w = tf.Variable(tf.random.normal([1]), name='weight')\n",
    "b = tf.Variable(tf.random.normal([1]), name='bias')\n",
    "print('w=', w,'\\nb=',b)"
   ]
  },
  {
   "cell_type": "code",
   "execution_count": 5,
   "id": "ce6ddc69-9a89-4896-89d1-2d53a9ab1ae4",
   "metadata": {},
   "outputs": [],
   "source": [
    "y = x_data*w+b"
   ]
  },
  {
   "cell_type": "code",
   "execution_count": 6,
   "id": "1048cf19-b43d-41fb-873e-038ae4c0fa99",
   "metadata": {},
   "outputs": [],
   "source": [
    "cost = tf.reduce_mean(tf.square(y-t_data))"
   ]
  },
  {
   "cell_type": "code",
   "execution_count": 7,
   "id": "2bf78825-79bd-4f11-b8b0-3b256f1af6aa",
   "metadata": {},
   "outputs": [],
   "source": [
    "train = tf.train.GradientDescentOptimizer(learning_rate=0.01).minimize(cost)"
   ]
  },
  {
   "cell_type": "code",
   "execution_count": 8,
   "id": "cbad7476-ddd5-42c1-afc7-77db1ffdf0c9",
   "metadata": {},
   "outputs": [
    {
     "name": "stdout",
     "output_type": "stream",
     "text": [
      "0 11.72659 [0.8049774] [-1.0644361]\n",
      "200 0.16485164 [1.2627084] [0.0515394]\n",
      "400 0.042536832 [1.1334473] [0.518213]\n",
      "600 0.010975822 [1.0677868] [0.75526786]\n",
      "800 0.0028320907 [1.0344335] [0.87568414]\n",
      "1000 0.00073076633 [1.0174911] [0.9368517]\n",
      "1200 0.00018855717 [1.0088848] [0.967923]\n",
      "1400 4.8652928e-05 [1.0045131] [0.98370606]\n",
      "1600 1.2554138e-05 [1.0022926] [0.99172306]\n",
      "1800 3.240651e-06 [1.0011649] [0.9957947]\n",
      "2000 8.368479e-07 [1.000592] [0.9978631]\n",
      "2200 2.161559e-07 [1.0003008] [0.99891394]\n",
      "2400 5.588481e-08 [1.0001531] [0.99944776]\n",
      "2600 1.44876e-08 [1.000078] [0.99971884]\n",
      "2800 3.7714614e-09 [1.0000398] [0.9998566]\n",
      "3000 9.665115e-10 [1.0000201] [0.9999273]\n",
      "3200 2.6036345e-10 [1.0000105] [0.9999623]\n",
      "3400 8.098837e-11 [1.000006] [0.9999789]\n",
      "3600 2.8351366e-11 [1.0000036] [0.9999878]\n",
      "3800 2.8351366e-11 [1.0000036] [0.9999878]\n",
      "4000 2.8351366e-11 [1.0000036] [0.9999878]\n",
      "4200 2.8351366e-11 [1.0000036] [0.9999878]\n",
      "4400 2.8351366e-11 [1.0000036] [0.9999878]\n",
      "4600 2.8351366e-11 [1.0000036] [0.9999878]\n",
      "4800 2.8351366e-11 [1.0000036] [0.9999878]\n",
      "5000 2.8351366e-11 [1.0000036] [0.9999878]\n",
      "5200 2.8351366e-11 [1.0000036] [0.9999878]\n",
      "5400 2.8351366e-11 [1.0000036] [0.9999878]\n",
      "5600 2.8351366e-11 [1.0000036] [0.9999878]\n",
      "5800 2.8351366e-11 [1.0000036] [0.9999878]\n",
      "6000 2.8351366e-11 [1.0000036] [0.9999878]\n",
      "6200 2.8351366e-11 [1.0000036] [0.9999878]\n",
      "6400 2.8351366e-11 [1.0000036] [0.9999878]\n",
      "6600 2.8351366e-11 [1.0000036] [0.9999878]\n",
      "6800 2.8351366e-11 [1.0000036] [0.9999878]\n",
      "7000 2.8351366e-11 [1.0000036] [0.9999878]\n",
      "7200 2.8351366e-11 [1.0000036] [0.9999878]\n",
      "7400 2.8351366e-11 [1.0000036] [0.9999878]\n",
      "7600 2.8351366e-11 [1.0000036] [0.9999878]\n",
      "7800 2.8351366e-11 [1.0000036] [0.9999878]\n",
      "8000 2.8351366e-11 [1.0000036] [0.9999878]\n"
     ]
    }
   ],
   "source": [
    "with tf.Session() as sess:\n",
    "    sess.run(tf.global_variables_initializer())\n",
    "    \n",
    "    for step in range(8001):\n",
    "        _,cost_val, w_val, b_val = sess.run([train, cost, w, b])\n",
    "        \n",
    "        if step%200==0:\n",
    "            print(step, cost_val, w_val, b_val)"
   ]
  }
 ],
 "metadata": {
  "kernelspec": {
   "display_name": "Python 3",
   "language": "python",
   "name": "python3"
  },
  "language_info": {
   "codemirror_mode": {
    "name": "ipython",
    "version": 3
   },
   "file_extension": ".py",
   "mimetype": "text/x-python",
   "name": "python",
   "nbconvert_exporter": "python",
   "pygments_lexer": "ipython3",
   "version": "3.8.8"
  }
 },
 "nbformat": 4,
 "nbformat_minor": 5
}
