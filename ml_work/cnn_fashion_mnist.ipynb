{
 "cells": [
  {
   "cell_type": "code",
   "execution_count": 2,
   "metadata": {
    "id": "RH1bPcCKNizL"
   },
   "outputs": [],
   "source": [
    "from keras.datasets import fashion_mnist\n",
    "from tensorflow.keras.models import Sequential\n",
    "from tensorflow.keras.layers import Conv2D, MaxPool2D, Flatten, Dense, Dropout\n",
    "from tensorflow.keras.optimizers import Adam\n",
    "from sklearn.metrics import confusion_matrix\n",
    "import numpy as np\n",
    "import matplotlib.pyplot as plt"
   ]
  },
  {
   "cell_type": "code",
   "execution_count": 3,
   "metadata": {
    "colab": {
     "base_uri": "https://localhost:8080/"
    },
    "id": "RHRBccm2N0pX",
    "outputId": "ad58f604-9b67-443c-8b23-48695219c384"
   },
   "outputs": [
    {
     "name": "stdout",
     "output_type": "stream",
     "text": [
      "Downloading data from https://storage.googleapis.com/tensorflow/tf-keras-datasets/train-labels-idx1-ubyte.gz\n",
      "29515/29515 [==============================] - 0s 0us/step\n",
      "Downloading data from https://storage.googleapis.com/tensorflow/tf-keras-datasets/train-images-idx3-ubyte.gz\n",
      "26421880/26421880 [==============================] - 0s 0us/step\n",
      "Downloading data from https://storage.googleapis.com/tensorflow/tf-keras-datasets/t10k-labels-idx1-ubyte.gz\n",
      "5148/5148 [==============================] - 0s 0us/step\n",
      "Downloading data from https://storage.googleapis.com/tensorflow/tf-keras-datasets/t10k-images-idx3-ubyte.gz\n",
      "4422102/4422102 [==============================] - 0s 0us/step\n"
     ]
    }
   ],
   "source": [
    "(x_train, t_train), (x_test, t_test) = fashion_mnist.load_data()"
   ]
  },
  {
   "cell_type": "code",
   "execution_count": 4,
   "metadata": {
    "id": "T-m7n1bDN9AU"
   },
   "outputs": [],
   "source": [
    "x_train = x_train.reshape(-1, 28, 28, 1)\n",
    "x_test = x_test.reshape(-1, 28, 28, 1)"
   ]
  },
  {
   "cell_type": "code",
   "execution_count": 5,
   "metadata": {
    "id": "UIwmlxHhOI6c"
   },
   "outputs": [],
   "source": [
    "x_train = x_train.astype(np.float32)/255.0\n",
    "x_test = x_test.astype(np.float32)/255.0"
   ]
  },
  {
   "cell_type": "code",
   "execution_count": 6,
   "metadata": {
    "colab": {
     "base_uri": "https://localhost:8080/"
    },
    "id": "u-dzN5iWOSgU",
    "outputId": "b866a678-c02c-4928-e104-776591ff35fb"
   },
   "outputs": [
    {
     "name": "stdout",
     "output_type": "stream",
     "text": [
      "Model: \"sequential\"\n",
      "_________________________________________________________________\n",
      " Layer (type)                Output Shape              Param #   \n",
      "=================================================================\n",
      " conv2d (Conv2D)             (None, 26, 26, 32)        320       \n",
      "                                                                 \n",
      " conv2d_1 (Conv2D)           (None, 24, 24, 64)        18496     \n",
      "                                                                 \n",
      " max_pooling2d (MaxPooling2D  (None, 12, 12, 64)       0         \n",
      " )                                                               \n",
      "                                                                 \n",
      " dropout (Dropout)           (None, 12, 12, 64)        0         \n",
      "                                                                 \n",
      " flatten (Flatten)           (None, 9216)              0         \n",
      "                                                                 \n",
      " dense (Dense)               (None, 128)               1179776   \n",
      "                                                                 \n",
      " dropout_1 (Dropout)         (None, 128)               0         \n",
      "                                                                 \n",
      " dense_1 (Dense)             (None, 10)                1290      \n",
      "                                                                 \n",
      "=================================================================\n",
      "Total params: 1,199,882\n",
      "Trainable params: 1,199,882\n",
      "Non-trainable params: 0\n",
      "_________________________________________________________________\n"
     ]
    }
   ],
   "source": [
    "cnn = Sequential()\n",
    "cnn.add(Conv2D(input_shape=(28, 28, 1), kernel_size=(3, 3), filters=32, activation='relu'))\n",
    "cnn.add(Conv2D(kernel_size=(3,3), filters=64, activation='relu'))\n",
    "cnn.add(MaxPool2D(pool_size=(2, 2)))\n",
    "cnn.add(Dropout(0.25))\n",
    "\n",
    "cnn.add(Flatten())\n",
    "cnn.add(Dense(128, activation='relu'))\n",
    "cnn.add(Dropout(0.5))\n",
    "cnn.add(Dense(10, activation='softmax'))\n",
    "\n",
    "cnn.compile(optimizer=Adam(), loss='sparse_categorical_crossentropy', metrics=['accuracy'])\n",
    "cnn.summary()"
   ]
  },
  {
   "cell_type": "code",
   "execution_count": 7,
   "metadata": {
    "colab": {
     "base_uri": "https://localhost:8080/"
    },
    "id": "fYuFdxUCO88u",
    "outputId": "928410d8-dbac-4d79-f927-409d1af3960a"
   },
   "outputs": [
    {
     "name": "stdout",
     "output_type": "stream",
     "text": [
      "Epoch 1/30\n",
      "469/469 [==============================] - 14s 10ms/step - loss: 0.5340 - accuracy: 0.8126 - val_loss: 0.3292 - val_accuracy: 0.8824\n",
      "Epoch 2/30\n",
      "469/469 [==============================] - 4s 9ms/step - loss: 0.3442 - accuracy: 0.8784 - val_loss: 0.2798 - val_accuracy: 0.8982\n",
      "Epoch 3/30\n",
      "469/469 [==============================] - 4s 9ms/step - loss: 0.2919 - accuracy: 0.8968 - val_loss: 0.2534 - val_accuracy: 0.9086\n",
      "Epoch 4/30\n",
      "469/469 [==============================] - 4s 9ms/step - loss: 0.2599 - accuracy: 0.9053 - val_loss: 0.2426 - val_accuracy: 0.9082\n",
      "Epoch 5/30\n",
      "469/469 [==============================] - 4s 9ms/step - loss: 0.2388 - accuracy: 0.9137 - val_loss: 0.2283 - val_accuracy: 0.9169\n",
      "Epoch 6/30\n",
      "469/469 [==============================] - 4s 9ms/step - loss: 0.2211 - accuracy: 0.9197 - val_loss: 0.2224 - val_accuracy: 0.9220\n",
      "Epoch 7/30\n",
      "469/469 [==============================] - 4s 9ms/step - loss: 0.2041 - accuracy: 0.9254 - val_loss: 0.2231 - val_accuracy: 0.9201\n",
      "Epoch 8/30\n",
      "469/469 [==============================] - 4s 9ms/step - loss: 0.1928 - accuracy: 0.9283 - val_loss: 0.2126 - val_accuracy: 0.9225\n",
      "Epoch 9/30\n",
      "469/469 [==============================] - 4s 9ms/step - loss: 0.1792 - accuracy: 0.9327 - val_loss: 0.2154 - val_accuracy: 0.9252\n",
      "Epoch 10/30\n",
      "469/469 [==============================] - 4s 9ms/step - loss: 0.1640 - accuracy: 0.9395 - val_loss: 0.2146 - val_accuracy: 0.9290\n",
      "Epoch 11/30\n",
      "469/469 [==============================] - 4s 9ms/step - loss: 0.1568 - accuracy: 0.9421 - val_loss: 0.2166 - val_accuracy: 0.9249\n",
      "Epoch 12/30\n",
      "469/469 [==============================] - 4s 9ms/step - loss: 0.1473 - accuracy: 0.9455 - val_loss: 0.2278 - val_accuracy: 0.9229\n",
      "Epoch 13/30\n",
      "469/469 [==============================] - 4s 9ms/step - loss: 0.1417 - accuracy: 0.9465 - val_loss: 0.2324 - val_accuracy: 0.9257\n",
      "Epoch 14/30\n",
      "469/469 [==============================] - 4s 9ms/step - loss: 0.1319 - accuracy: 0.9495 - val_loss: 0.2161 - val_accuracy: 0.9315\n",
      "Epoch 15/30\n",
      "469/469 [==============================] - 4s 9ms/step - loss: 0.1270 - accuracy: 0.9520 - val_loss: 0.2212 - val_accuracy: 0.9292\n",
      "Epoch 16/30\n",
      "469/469 [==============================] - 4s 9ms/step - loss: 0.1203 - accuracy: 0.9541 - val_loss: 0.2191 - val_accuracy: 0.9316\n",
      "Epoch 17/30\n",
      "469/469 [==============================] - 4s 9ms/step - loss: 0.1117 - accuracy: 0.9559 - val_loss: 0.2398 - val_accuracy: 0.9309\n",
      "Epoch 18/30\n",
      "469/469 [==============================] - 4s 9ms/step - loss: 0.1100 - accuracy: 0.9579 - val_loss: 0.2302 - val_accuracy: 0.9281\n",
      "Epoch 19/30\n",
      "469/469 [==============================] - 4s 9ms/step - loss: 0.1063 - accuracy: 0.9588 - val_loss: 0.2312 - val_accuracy: 0.9296\n",
      "Epoch 20/30\n",
      "469/469 [==============================] - 4s 9ms/step - loss: 0.1011 - accuracy: 0.9599 - val_loss: 0.2470 - val_accuracy: 0.9300\n",
      "Epoch 21/30\n",
      "469/469 [==============================] - 4s 9ms/step - loss: 0.1009 - accuracy: 0.9608 - val_loss: 0.2480 - val_accuracy: 0.9322\n",
      "Epoch 22/30\n",
      "469/469 [==============================] - 4s 9ms/step - loss: 0.0923 - accuracy: 0.9639 - val_loss: 0.2613 - val_accuracy: 0.9303\n",
      "Epoch 23/30\n",
      "469/469 [==============================] - 4s 9ms/step - loss: 0.0878 - accuracy: 0.9663 - val_loss: 0.2545 - val_accuracy: 0.9292\n",
      "Epoch 24/30\n",
      "469/469 [==============================] - 4s 9ms/step - loss: 0.0901 - accuracy: 0.9650 - val_loss: 0.2747 - val_accuracy: 0.9263\n",
      "Epoch 25/30\n",
      "469/469 [==============================] - 4s 9ms/step - loss: 0.0854 - accuracy: 0.9671 - val_loss: 0.2731 - val_accuracy: 0.9302\n",
      "Epoch 26/30\n",
      "469/469 [==============================] - 4s 9ms/step - loss: 0.0844 - accuracy: 0.9671 - val_loss: 0.2576 - val_accuracy: 0.9307\n",
      "Epoch 27/30\n",
      "469/469 [==============================] - 4s 9ms/step - loss: 0.0813 - accuracy: 0.9689 - val_loss: 0.2564 - val_accuracy: 0.9314\n",
      "Epoch 28/30\n",
      "469/469 [==============================] - 4s 9ms/step - loss: 0.0794 - accuracy: 0.9682 - val_loss: 0.2742 - val_accuracy: 0.9298\n",
      "Epoch 29/30\n",
      "469/469 [==============================] - 4s 9ms/step - loss: 0.0759 - accuracy: 0.9704 - val_loss: 0.2867 - val_accuracy: 0.9318\n",
      "Epoch 30/30\n",
      "469/469 [==============================] - 4s 9ms/step - loss: 0.0732 - accuracy: 0.9716 - val_loss: 0.2791 - val_accuracy: 0.9309\n"
     ]
    }
   ],
   "source": [
    "hist = cnn.fit(x_train, t_train, batch_size=128, epochs=30, validation_data=(x_test, t_test))"
   ]
  },
  {
   "cell_type": "code",
   "execution_count": 8,
   "metadata": {
    "colab": {
     "base_uri": "https://localhost:8080/",
     "height": 313
    },
    "id": "mhqA-mzbQm21",
    "outputId": "b40057ba-a81c-4f47-9dff-50918b0e227b"
   },
   "outputs": [
    {
     "data": {
      "text/plain": [
       "<matplotlib.legend.Legend at 0x7f58204f74d0>"
      ]
     },
     "execution_count": 8,
     "metadata": {},
     "output_type": "execute_result"
    },
    {
     "data": {
      "image/png": "[encoded data removed]",
      "text/plain": [
       "<Figure size 432x288 with 1 Axes>"
      ]
     },
     "metadata": {
      "needs_background": "light"
     },
     "output_type": "display_data"
    }
   ],
   "source": [
    "plt.title('loss')\n",
    "plt.xlabel('epoch')\n",
    "plt.ylabel('loss')\n",
    "plt.plot(hist.history['loss'], label='train loss')\n",
    "plt.plot(hist.history['val_loss'], label='validation loss')\n",
    "plt.legend(loc='best')"
   ]
  },
  {
   "cell_type": "code",
   "execution_count": 9,
   "metadata": {
    "colab": {
     "base_uri": "https://localhost:8080/",
     "height": 313
    },
    "id": "jBEZ3GkJQnl9",
    "outputId": "9882fadc-0a23-47d5-a654-05fbfd5c0539"
   },
   "outputs": [
    {
     "data": {
      "text/plain": [
       "<matplotlib.legend.Legend at 0x7f58209d0350>"
      ]
     },
     "execution_count": 9,
     "metadata": {},
     "output_type": "execute_result"
    },
    {
     "data": {
      "image/png": "[encoded data removed]",
      "text/plain": [
       "<Figure size 432x288 with 1 Axes>"
      ]
     },
     "metadata": {
      "needs_background": "light"
     },
     "output_type": "display_data"
    }
   ],
   "source": [
    "plt.title('Accuracy')\n",
    "plt.xlabel('epoch')\n",
    "plt.ylabel('Accuracy')\n",
    "plt.plot(hist.history['accuracy'], label='train Accuracy')\n",
    "plt.plot(hist.history['val_accuracy'], label='validation Accuracy')\n",
    "plt.legend(loc='best')"
   ]
  },
  {
   "cell_type": "code",
   "execution_count": null,
   "metadata": {
    "id": "Uw3acLETQosM"
   },
   "outputs": [],
   "source": []
  }
 ],
 "metadata": {
  "accelerator": "GPU",
  "colab": {
   "collapsed_sections": [],
   "provenance": [],
   "toc_visible": true
  },
  "gpuClass": "standard",
  "kernelspec": {
   "display_name": "Python 3",
   "language": "python",
   "name": "python3"
  },
  "language_info": {
   "codemirror_mode": {
    "name": "ipython",
    "version": 3
   },
   "file_extension": ".py",
   "mimetype": "text/x-python",
   "name": "python",
   "nbconvert_exporter": "python",
   "pygments_lexer": "ipython3",
   "version": "3.8.8"
  }
 },
 "nbformat": 4,
 "nbformat_minor": 4
}
