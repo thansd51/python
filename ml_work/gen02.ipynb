{
 "cells": [
  {
   "cell_type": "code",
   "execution_count": 14,
   "metadata": {
    "id": "c-NNzUNs2vAM"
   },
   "outputs": [],
   "source": [
    "import tensorflow as tf\n",
    "import numpy as np\n",
    "from tensorflow.keras.models import Sequential\n",
    "from tensorflow.keras.layers import Conv2D, MaxPool2D, Flatten, Dense, Dropout\n",
    "from tensorflow.keras.optimizers import Adam, RMSprop\n",
    "from tensorflow.keras.datasets import cifar10\n",
    "from tensorflow.keras.preprocessing.image import ImageDataGenerator\n",
    "from tensorflow.keras.callbacks import ModelCheckpoint, EarlyStopping"
   ]
  },
  {
   "cell_type": "code",
   "execution_count": 15,
   "metadata": {
    "id": "xOuyBC4H6ZYc"
   },
   "outputs": [],
   "source": [
    "gen = ImageDataGenerator(rotation_range=15, \n",
    "                         width_shift_range=0.2, \n",
    "                         height_shift_range=0.2, \n",
    "                         shear_range=0.1, \n",
    "                         horizontal_flip=True)"
   ]
  },
  {
   "cell_type": "code",
   "execution_count": 16,
   "metadata": {
    "id": "hoxu4UXC626p"
   },
   "outputs": [],
   "source": [
    "(x_train, t_train), (x_test, t_test) = cifar10.load_data()"
   ]
  },
  {
   "cell_type": "code",
   "execution_count": 17,
   "metadata": {
    "id": "unj8TwhR68VJ"
   },
   "outputs": [],
   "source": [
    "x_train = x_train.astype(np.float32)/255\n",
    "x_test = x_test.astype(np.float32)/255"
   ]
  },
  {
   "cell_type": "code",
   "execution_count": 18,
   "metadata": {
    "colab": {
     "base_uri": "https://localhost:8080/"
    },
    "id": "_ORcjhfx7MW5",
    "outputId": "55308993-bbe7-4102-dd8a-0fe5299d189f"
   },
   "outputs": [
    {
     "name": "stdout",
     "output_type": "stream",
     "text": [
      "75000\n",
      "(75000, 32, 32, 3) (75000, 1)\n",
      "(75000, 32, 32, 3) (75000, 1)\n"
     ]
    }
   ],
   "source": [
    "augment_ratio = 1.5 # 전체 데이터의 150%\n",
    "augment_size = int(augment_ratio * x_train.shape[0])\n",
    "\n",
    "print(augment_size)\n",
    "\n",
    "# 전체 x_train 개수의 150% 비율\n",
    "randidx = np.random.randint(x_train.shape[0], size=augment_size)\n",
    "\n",
    "# 임의로 선택된 데이터는 원본 데이터를 참조하기 때문에\n",
    "# 원본 데이터에 영향을 줄수 있음. 그래서 copy() 함수를 통해 안전하게 복사본 만듬\n",
    "x_augmented = x_train[randidx].copy()\n",
    "t_augmented = t_train[randidx].copy()\n",
    "print(x_augmented.shape, t_augmented.shape)\n",
    "\n",
    "# 이미지 보강 실행\n",
    "x_augmented, t_augmented = gen.flow(x_augmented, t_augmented,\n",
    "                                    batch_size=augment_size,\n",
    "                                    shuffle=False).next()\n",
    "print(x_augmented.shape, t_augmented.shape)"
   ]
  },
  {
   "cell_type": "code",
   "execution_count": 19,
   "metadata": {
    "colab": {
     "base_uri": "https://localhost:8080/"
    },
    "id": "Uph3Xdta7m2S",
    "outputId": "995f4d26-b44d-400c-dd17-b6a9a5bb6202"
   },
   "outputs": [
    {
     "name": "stdout",
     "output_type": "stream",
     "text": [
      "(125000, 32, 32, 3) (125000, 1)\n"
     ]
    }
   ],
   "source": [
    "# x_train, t_train 에 보강된 데이터 추가\n",
    "x_train = np.concatenate((x_train, x_augmented))\n",
    "t_train = np.concatenate((t_train, t_augmented))\n",
    "\n",
    "print(x_train.shape, t_train.shape)"
   ]
  },
  {
   "cell_type": "code",
   "execution_count": 20,
   "metadata": {
    "colab": {
     "base_uri": "https://localhost:8080/"
    },
    "id": "WGMbKiD59Xc6",
    "outputId": "22b021ce-c71b-4225-f6ac-fef1cc22eca3"
   },
   "outputs": [
    {
     "name": "stdout",
     "output_type": "stream",
     "text": [
      "Model: \"sequential_3\"\n",
      "_________________________________________________________________\n",
      " Layer (type)                Output Shape              Param #   \n",
      "=================================================================\n",
      " conv2d_12 (Conv2D)          (None, 32, 32, 32)        896       \n",
      "                                                                 \n",
      " conv2d_13 (Conv2D)          (None, 32, 32, 32)        9248      \n",
      "                                                                 \n",
      " max_pooling2d_6 (MaxPooling  (None, 16, 16, 32)       0         \n",
      " 2D)                                                             \n",
      "                                                                 \n",
      " dropout_9 (Dropout)         (None, 16, 16, 32)        0         \n",
      "                                                                 \n",
      " conv2d_14 (Conv2D)          (None, 16, 16, 64)        18496     \n",
      "                                                                 \n",
      " conv2d_15 (Conv2D)          (None, 16, 16, 64)        36928     \n",
      "                                                                 \n",
      " max_pooling2d_7 (MaxPooling  (None, 8, 8, 64)         0         \n",
      " 2D)                                                             \n",
      "                                                                 \n",
      " dropout_10 (Dropout)        (None, 8, 8, 64)          0         \n",
      "                                                                 \n",
      " flatten_3 (Flatten)         (None, 4096)              0         \n",
      "                                                                 \n",
      " dense_6 (Dense)             (None, 128)               524416    \n",
      "                                                                 \n",
      " dropout_11 (Dropout)        (None, 128)               0         \n",
      "                                                                 \n",
      " dense_7 (Dense)             (None, 10)                1290      \n",
      "                                                                 \n",
      "=================================================================\n",
      "Total params: 591,274\n",
      "Trainable params: 591,274\n",
      "Non-trainable params: 0\n",
      "_________________________________________________________________\n"
     ]
    }
   ],
   "source": [
    "cnn = Sequential()\n",
    "cnn.add(Conv2D(input_shape=(32, 32, 3), kernel_size=(3, 3), padding='same', filters=32, activation='relu')) # cnn.add(Conv2D(32,(3,3), activation='relu', padding='same', input_shape=(32, 32, 3)))\n",
    "cnn.add(Conv2D(kernel_size=(3, 3), filters=32, padding='same', activation='relu')) # cnn.add(Conv2D(32,(3,3), activation='relu', padding='same'))\n",
    "cnn.add(MaxPool2D(pool_size=(2, 2)))\n",
    "cnn.add(Dropout(0.25))\n",
    "\n",
    "cnn.add(Conv2D(kernel_size=(3, 3), filters=64, padding='same', activation='relu'))\n",
    "cnn.add(Conv2D(kernel_size=(3, 3), filters=64, padding='same', activation='relu'))\n",
    "cnn.add(MaxPool2D(pool_size=(2, 2)))\n",
    "cnn.add(Dropout(0.25))\n",
    "\n",
    "# cnn.add(Conv2D(kernel_size=(3, 3), filters=128, padding='same', activation='relu'))\n",
    "# cnn.add(Conv2D(kernel_size=(3, 3), filters=128, padding='same', activation='relu'))\n",
    "# cnn.add(MaxPool2D(pool_size=(2, 2)))\n",
    "# cnn.add(Dropout(0.25))\n",
    "\n",
    "# cnn.add(Conv2D(kernel_size=(3, 3), filters=256, padding='same', activation='relu'))\n",
    "# cnn.add(MaxPool2D(pool_size=(2, 2)))\n",
    "# cnn.add(Dropout(0.25))\n",
    "\n",
    "cnn.add(Flatten())\n",
    "cnn.add(Dense(128, activation='relu'))\n",
    "cnn.add(Dropout(0.5))\n",
    "cnn.add(Dense(10, activation='softmax'))\n",
    "\n",
    "cnn.summary()"
   ]
  },
  {
   "cell_type": "code",
   "execution_count": 23,
   "metadata": {
    "colab": {
     "base_uri": "https://localhost:8080/"
    },
    "id": "dHXwFLlEBUfE",
    "outputId": "7d47f0c4-2fa8-4da3-ef0a-dd6bc57da116"
   },
   "outputs": [
    {
     "name": "stdout",
     "output_type": "stream",
     "text": [
      "Epoch 1/50\n",
      "489/489 [==============================] - ETA: 0s - loss: 0.8906 - accuracy: 0.6892\n",
      "Epoch 1: val_loss improved from inf to 0.68494, saving model to bast.h5\n",
      "489/489 [==============================] - 11s 20ms/step - loss: 0.8906 - accuracy: 0.6892 - val_loss: 0.6849 - val_accuracy: 0.7581\n",
      "Epoch 2/50\n",
      "487/489 [============================>.] - ETA: 0s - loss: 0.8621 - accuracy: 0.6986\n",
      "Epoch 2: val_loss improved from 0.68494 to 0.66823, saving model to bast.h5\n",
      "489/489 [==============================] - 10s 20ms/step - loss: 0.8619 - accuracy: 0.6987 - val_loss: 0.6682 - val_accuracy: 0.7679\n",
      "Epoch 3/50\n",
      "487/489 [============================>.] - ETA: 0s - loss: 0.8305 - accuracy: 0.7103\n",
      "Epoch 3: val_loss improved from 0.66823 to 0.66755, saving model to bast.h5\n",
      "489/489 [==============================] - 10s 20ms/step - loss: 0.8307 - accuracy: 0.7102 - val_loss: 0.6676 - val_accuracy: 0.7671\n",
      "Epoch 4/50\n",
      "488/489 [============================>.] - ETA: 0s - loss: 0.8063 - accuracy: 0.7175\n",
      "Epoch 4: val_loss improved from 0.66755 to 0.65676, saving model to bast.h5\n",
      "489/489 [==============================] - 10s 21ms/step - loss: 0.8065 - accuracy: 0.7175 - val_loss: 0.6568 - val_accuracy: 0.7709\n",
      "Epoch 5/50\n",
      "487/489 [============================>.] - ETA: 0s - loss: 0.7852 - accuracy: 0.7249\n",
      "Epoch 5: val_loss improved from 0.65676 to 0.65653, saving model to bast.h5\n",
      "489/489 [==============================] - 10s 20ms/step - loss: 0.7848 - accuracy: 0.7250 - val_loss: 0.6565 - val_accuracy: 0.7668\n",
      "Epoch 6/50\n",
      "487/489 [============================>.] - ETA: 0s - loss: 0.7627 - accuracy: 0.7336\n",
      "Epoch 6: val_loss improved from 0.65653 to 0.61328, saving model to bast.h5\n",
      "489/489 [==============================] - 10s 20ms/step - loss: 0.7628 - accuracy: 0.7336 - val_loss: 0.6133 - val_accuracy: 0.7879\n",
      "Epoch 7/50\n",
      "487/489 [============================>.] - ETA: 0s - loss: 0.7505 - accuracy: 0.7385\n",
      "Epoch 7: val_loss improved from 0.61328 to 0.60418, saving model to bast.h5\n",
      "489/489 [==============================] - 10s 20ms/step - loss: 0.7508 - accuracy: 0.7383 - val_loss: 0.6042 - val_accuracy: 0.7900\n",
      "Epoch 8/50\n",
      "487/489 [============================>.] - ETA: 0s - loss: 0.7363 - accuracy: 0.7438\n",
      "Epoch 8: val_loss did not improve from 0.60418\n",
      "489/489 [==============================] - 10s 20ms/step - loss: 0.7361 - accuracy: 0.7438 - val_loss: 0.6061 - val_accuracy: 0.7862\n",
      "Epoch 9/50\n",
      "487/489 [============================>.] - ETA: 0s - loss: 0.7148 - accuracy: 0.7494\n",
      "Epoch 9: val_loss improved from 0.60418 to 0.59479, saving model to bast.h5\n",
      "489/489 [==============================] - 10s 21ms/step - loss: 0.7149 - accuracy: 0.7493 - val_loss: 0.5948 - val_accuracy: 0.7971\n",
      "Epoch 10/50\n",
      "487/489 [============================>.] - ETA: 0s - loss: 0.7067 - accuracy: 0.7540\n",
      "Epoch 10: val_loss did not improve from 0.59479\n",
      "489/489 [==============================] - 10s 20ms/step - loss: 0.7069 - accuracy: 0.7540 - val_loss: 0.5966 - val_accuracy: 0.7926\n",
      "Epoch 11/50\n",
      "487/489 [============================>.] - ETA: 0s - loss: 0.6914 - accuracy: 0.7595\n",
      "Epoch 11: val_loss did not improve from 0.59479\n",
      "489/489 [==============================] - 10s 20ms/step - loss: 0.6915 - accuracy: 0.7595 - val_loss: 0.6031 - val_accuracy: 0.7918\n",
      "Epoch 12/50\n",
      "487/489 [============================>.] - ETA: 0s - loss: 0.6803 - accuracy: 0.7629\n",
      "Epoch 12: val_loss improved from 0.59479 to 0.58240, saving model to bast.h5\n",
      "489/489 [==============================] - 10s 20ms/step - loss: 0.6805 - accuracy: 0.7628 - val_loss: 0.5824 - val_accuracy: 0.8029\n",
      "Epoch 13/50\n",
      "487/489 [============================>.] - ETA: 0s - loss: 0.6722 - accuracy: 0.7654\n",
      "Epoch 13: val_loss improved from 0.58240 to 0.56468, saving model to bast.h5\n",
      "489/489 [==============================] - 10s 20ms/step - loss: 0.6722 - accuracy: 0.7654 - val_loss: 0.5647 - val_accuracy: 0.8065\n",
      "Epoch 14/50\n",
      "487/489 [============================>.] - ETA: 0s - loss: 0.6648 - accuracy: 0.7672\n",
      "Epoch 14: val_loss did not improve from 0.56468\n",
      "489/489 [==============================] - 10s 20ms/step - loss: 0.6646 - accuracy: 0.7672 - val_loss: 0.5744 - val_accuracy: 0.8088\n",
      "Epoch 15/50\n",
      "487/489 [============================>.] - ETA: 0s - loss: 0.6508 - accuracy: 0.7712\n",
      "Epoch 15: val_loss did not improve from 0.56468\n",
      "489/489 [==============================] - 10s 20ms/step - loss: 0.6510 - accuracy: 0.7712 - val_loss: 0.5752 - val_accuracy: 0.8095\n",
      "Epoch 16/50\n",
      "487/489 [============================>.] - ETA: 0s - loss: 0.6513 - accuracy: 0.7724\n",
      "Epoch 16: val_loss improved from 0.56468 to 0.55500, saving model to bast.h5\n",
      "489/489 [==============================] - 10s 20ms/step - loss: 0.6514 - accuracy: 0.7724 - val_loss: 0.5550 - val_accuracy: 0.8098\n",
      "Epoch 17/50\n",
      "486/489 [============================>.] - ETA: 0s - loss: 0.6409 - accuracy: 0.7744\n",
      "Epoch 17: val_loss did not improve from 0.55500\n",
      "489/489 [==============================] - 10s 20ms/step - loss: 0.6406 - accuracy: 0.7746 - val_loss: 0.5707 - val_accuracy: 0.8085\n",
      "Epoch 18/50\n",
      "487/489 [============================>.] - ETA: 0s - loss: 0.6318 - accuracy: 0.7778\n",
      "Epoch 18: val_loss did not improve from 0.55500\n",
      "489/489 [==============================] - 10s 20ms/step - loss: 0.6319 - accuracy: 0.7777 - val_loss: 0.5586 - val_accuracy: 0.8080\n",
      "Epoch 19/50\n",
      "487/489 [============================>.] - ETA: 0s - loss: 0.6270 - accuracy: 0.7793\n",
      "Epoch 19: val_loss did not improve from 0.55500\n",
      "489/489 [==============================] - 10s 20ms/step - loss: 0.6271 - accuracy: 0.7793 - val_loss: 0.5813 - val_accuracy: 0.8091\n",
      "Epoch 20/50\n",
      "487/489 [============================>.] - ETA: 0s - loss: 0.6177 - accuracy: 0.7834\n",
      "Epoch 20: val_loss did not improve from 0.55500\n",
      "489/489 [==============================] - 10s 20ms/step - loss: 0.6180 - accuracy: 0.7834 - val_loss: 0.5645 - val_accuracy: 0.8091\n",
      "Epoch 21/50\n",
      "487/489 [============================>.] - ETA: 0s - loss: 0.6114 - accuracy: 0.7851\n",
      "Epoch 21: val_loss did not improve from 0.55500\n",
      "489/489 [==============================] - 10s 20ms/step - loss: 0.6114 - accuracy: 0.7851 - val_loss: 0.5604 - val_accuracy: 0.8144\n",
      "0:03:30.860886\n"
     ]
    }
   ],
   "source": [
    "from datetime import datetime\n",
    "\n",
    "start_time = datetime.now()\n",
    "\n",
    "cnn.compile(optimizer=Adam(), loss='sparse_categorical_crossentropy', metrics=['accuracy'])\n",
    "\n",
    "# 손실함수가 5 epochs을 진행을 검사하여 더이상 줄어들지 않으면 종료\n",
    "# EarlyStopping(모니터링 값, 대기 epochs)\n",
    "early_stopping = EarlyStopping(monitor='val_loss', patience=5)\n",
    "\n",
    "# 학습 중인 모델을 자동 저장\n",
    "model_checkpoint = ModelCheckpoint(filepath='bast.h5',\n",
    "                                   monitor='val_loss',\n",
    "                                   verbose=1,\n",
    "                                   save_best_only=True)\n",
    "\n",
    "hist = cnn.fit(x_train, t_train, batch_size=256, epochs=50, validation_data=(x_test, t_test), callbacks=[early_stopping, model_checkpoint])\n",
    "\n",
    "end_time = datetime.now()\n",
    "print(end_time-start_time)"
   ]
  },
  {
   "cell_type": "code",
   "execution_count": 25,
   "metadata": {
    "colab": {
     "base_uri": "https://localhost:8080/",
     "height": 313
    },
    "id": "dkH3JlYIEbk9",
    "outputId": "d8f42816-1df9-4400-e60c-66bcabfc9f90"
   },
   "outputs": [
    {
     "data": {
      "text/plain": [
       "<matplotlib.legend.Legend at 0x7f370c1d4350>"
      ]
     },
     "execution_count": 25,
     "metadata": {},
     "output_type": "execute_result"
    },
    {
     "data": {
      "image/png": "[encoded data removed]",
      "text/plain": [
       "<Figure size 432x288 with 1 Axes>"
      ]
     },
     "metadata": {
      "needs_background": "light"
     },
     "output_type": "display_data"
    }
   ],
   "source": [
    "import matplotlib.pyplot as plt\n",
    "\n",
    "plt.title('loss')\n",
    "plt.xlabel('epoch')\n",
    "plt.ylabel('loss')\n",
    "plt.plot(hist.history['loss'], label='train loss')\n",
    "plt.plot(hist.history['val_loss'], label='validation loss')\n",
    "plt.legend(loc='best')"
   ]
  },
  {
   "cell_type": "code",
   "execution_count": 26,
   "metadata": {
    "colab": {
     "base_uri": "https://localhost:8080/",
     "height": 313
    },
    "id": "WoNJXHjbEuke",
    "outputId": "c901df5b-b7c0-456d-e225-3b7acd5b7a56"
   },
   "outputs": [
    {
     "data": {
      "text/plain": [
       "<matplotlib.legend.Legend at 0x7f370c1c5d10>"
      ]
     },
     "execution_count": 26,
     "metadata": {},
     "output_type": "execute_result"
    },
    {
     "data": {
      "image/png": "[encoded data removed]",
      "text/plain": [
       "<Figure size 432x288 with 1 Axes>"
      ]
     },
     "metadata": {
      "needs_background": "light"
     },
     "output_type": "display_data"
    }
   ],
   "source": [
    "plt.title('Accuracy')\n",
    "plt.xlabel('epoch')\n",
    "plt.ylabel('Accuracy')\n",
    "plt.plot(hist.history['accuracy'], label='train Accuracy')\n",
    "plt.plot(hist.history['val_accuracy'], label='validation Accuracy')\n",
    "plt.legend(loc='best')"
   ]
  }
 ],
 "metadata": {
  "accelerator": "GPU",
  "colab": {
   "provenance": []
  },
  "gpuClass": "standard",
  "kernelspec": {
   "display_name": "Python 3",
   "language": "python",
   "name": "python3"
  },
  "language_info": {
   "codemirror_mode": {
    "name": "ipython",
    "version": 3
   },
   "file_extension": ".py",
   "mimetype": "text/x-python",
   "name": "python",
   "nbconvert_exporter": "python",
   "pygments_lexer": "ipython3",
   "version": "3.8.8"
  }
 },
 "nbformat": 4,
 "nbformat_minor": 4
}
