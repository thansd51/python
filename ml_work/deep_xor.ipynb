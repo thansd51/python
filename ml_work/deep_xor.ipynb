{
 "cells": [
  {
   "cell_type": "code",
   "execution_count": 1,
   "id": "2ce7ca62-9312-4425-bb52-bb1852d7b78e",
   "metadata": {},
   "outputs": [],
   "source": [
    "import numpy as np"
   ]
  },
  {
   "cell_type": "code",
   "execution_count": 2,
   "id": "4ba22b73-71b3-45a4-afde-37b49bf915d0",
   "metadata": {},
   "outputs": [],
   "source": [
    "def sigmoid(x):\n",
    "    return 1 / (1+np.exp(-x))"
   ]
  },
  {
   "cell_type": "code",
   "execution_count": 3,
   "id": "34f8a0b1-2e53-456f-a2e6-8e37c0b65cae",
   "metadata": {},
   "outputs": [],
   "source": [
    "def numerical_derivatitve(f, x):\n",
    "    delta_x = 1e-4\n",
    "    grad = np.zeros_like(x)\n",
    "    \n",
    "    it = np.nditer(x, flags=['multi_index'], op_flags=['readwrite'])\n",
    "    \n",
    "    while not it.finished:\n",
    "        idx = it.multi_index\n",
    "        \n",
    "        tmp_val = x[idx]\n",
    "        \n",
    "        x[idx] = float(tmp_val) + delta_x\n",
    "        fx1 = f(x)\n",
    "        \n",
    "        x[idx] = tmp_val - delta_x\n",
    "        fx2 = f(x)\n",
    "        \n",
    "        grad[idx] = (fx1-fx2) / (2*delta_x)\n",
    "         \n",
    "        x[idx] = tmp_val\n",
    "        it.iternext()\n",
    "        \n",
    "    return grad"
   ]
  },
  {
   "cell_type": "code",
   "execution_count": 4,
   "id": "ee3f203f-ca95-4ddb-944a-31053dbc91f1",
   "metadata": {},
   "outputs": [],
   "source": [
    "class LogicGate:\n",
    "    def __init__(self, gate_name, xdata, tdata):\n",
    "        self.name = gate_name\n",
    "        self.__xdata = xdata\n",
    "        self.__tdata = tdata\n",
    "        \n",
    "        self.__xdata = xdata.reshape(4, 2) # 4개 입력(입력층), 2개 출력(은닉층)\n",
    "        self.__tdata = tdata.reshape(4, 1)\n",
    "        \n",
    "        self.__W2 = np.random.rand(2, 6) # 2개 입력, 6개 출력\n",
    "        self.__b2 = np.random.rand(6)\n",
    "        \n",
    "        self.__W3 = np.random.rand(6, 1) # 6개 입력, 1개 출력\n",
    "        self.__b3 = np.random.rand(1)\n",
    "        \n",
    "        self.__learning_rate = 1e-2\n",
    "        \n",
    "    def feed_forward(self):\n",
    "        delta = 1e-7\n",
    "        \n",
    "        z2 = np.dot(self.__xdata, self.__W2)+self.__b2\n",
    "        a2 = sigmoid(z2)\n",
    "        \n",
    "        z3 = np.dot(a2, self.__W3)+self.__b3\n",
    "        y = sigmoid(z3)\n",
    "        \n",
    "        return -np.sum(self.__tdata*np.log(y+delta)+(1-self.__tdata)*np.log((1-y)+delta))\n",
    "    \n",
    "    def train(self):\n",
    "        f = lambda x: self.feed_forward()\n",
    "        print(\"Initial loss function:\", self.feed_forward())\n",
    "        \n",
    "        for step in range(10001):\n",
    "            self.__W2 -= self.__learning_rate*numerical_derivatitve(f, self.__W2)\n",
    "            self.__b2 -= self.__learning_rate*numerical_derivatitve(f, self.__b2)\n",
    "            \n",
    "            self.__W3 -= self.__learning_rate*numerical_derivatitve(f, self.__W3)\n",
    "            self.__b3 -= self.__learning_rate*numerical_derivatitve(f, self.__b3)\n",
    "            \n",
    "            if step % 400 == 0:\n",
    "                print('step:', step, 'loss value:', self.feed_forward())\n",
    "    \n",
    "    def predict(self, xdata):\n",
    "        z2 = np.dot(xdata, self.__W2) + self.__b2\n",
    "        a2 = sigmoid(z2)\n",
    "        \n",
    "        z3 = np.dot(a2, self.__W3) + self.__b3\n",
    "        y = sigmoid(z3)\n",
    "        \n",
    "        if y >= 0.5 :\n",
    "            result = 1\n",
    "        else :\n",
    "            result = 0\n",
    "        return y, result"
   ]
  },
  {
   "cell_type": "code",
   "execution_count": 5,
   "id": "99f78f10-229f-497e-a241-e41922f5318b",
   "metadata": {},
   "outputs": [
    {
     "name": "stdout",
     "output_type": "stream",
     "text": [
      "Initial loss function: 4.16495132990463\n",
      "step: 0 loss value: 4.0848521543719345\n",
      "step: 400 loss value: 2.7710201596250754\n",
      "step: 800 loss value: 2.7689151535692167\n",
      "step: 1200 loss value: 2.766304009946441\n",
      "step: 1600 loss value: 2.76275719645716\n",
      "step: 2000 loss value: 2.7576374749873365\n",
      "step: 2400 loss value: 2.749996598135283\n",
      "step: 2800 loss value: 2.73847950475024\n",
      "step: 3200 loss value: 2.7212739273902837\n",
      "step: 3600 loss value: 2.6960999380326456\n",
      "step: 4000 loss value: 2.6601829898956315\n",
      "step: 4400 loss value: 2.610355534142278\n",
      "step: 4800 loss value: 2.5439199804694055\n",
      "step: 5200 loss value: 2.460687766988614\n",
      "step: 5600 loss value: 2.3645888806064232\n",
      "step: 6000 loss value: 2.2621726333897607\n",
      "step: 6400 loss value: 2.158935802478864\n",
      "step: 6800 loss value: 2.057031936137502\n",
      "step: 7200 loss value: 1.9552667332485223\n",
      "step: 7600 loss value: 1.8500732731779685\n",
      "step: 8000 loss value: 1.7367428845761603\n",
      "step: 8400 loss value: 1.6111770958866325\n",
      "step: 8800 loss value: 1.472092654875945\n",
      "step: 9200 loss value: 1.3224163851409416\n",
      "step: 9600 loss value: 1.1687669339283002\n",
      "step: 10000 loss value: 1.0192484573679215\n"
     ]
    }
   ],
   "source": [
    "xdata = np.array([[0, 0], [0, 1], [1, 0], [1, 1]])\n",
    "tdata = np.array([0, 1, 1, 0])\n",
    "XOR_obj = LogicGate('XOR_GATE', xdata, tdata)\n",
    "XOR_obj.train()"
   ]
  },
  {
   "cell_type": "code",
   "execution_count": 10,
   "id": "e8411547-c54e-4ff2-8530-1d5c158094ca",
   "metadata": {},
   "outputs": [
    {
     "name": "stdout",
     "output_type": "stream",
     "text": [
      "XOR_GATE \n",
      "\n",
      "(array([0.09492047]), 0)\n",
      "(array([0.77391408]), 1)\n",
      "(array([0.77479854]), 1)\n",
      "(array([0.33506757]), 0)\n"
     ]
    }
   ],
   "source": [
    "# XOR Gate prediction\n",
    "test_data = np.array([[0, 0], [0, 1], [1, 0], [1, 1]])\n",
    "print(XOR_obj.name, '\\n')\n",
    "for data in test_data:\n",
    "    print(XOR_obj.predict(data))\n",
    "    "
   ]
  },
  {
   "cell_type": "code",
   "execution_count": null,
   "id": "9573c5fa-5e47-4fa2-8f59-9a3445ec7a0c",
   "metadata": {},
   "outputs": [],
   "source": []
  }
 ],
 "metadata": {
  "kernelspec": {
   "display_name": "Python 3",
   "language": "python",
   "name": "python3"
  },
  "language_info": {
   "codemirror_mode": {
    "name": "ipython",
    "version": 3
   },
   "file_extension": ".py",
   "mimetype": "text/x-python",
   "name": "python",
   "nbconvert_exporter": "python",
   "pygments_lexer": "ipython3",
   "version": "3.8.8"
  }
 },
 "nbformat": 4,
 "nbformat_minor": 5
}
