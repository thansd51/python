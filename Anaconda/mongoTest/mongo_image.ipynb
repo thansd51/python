{
 "cells": [
  {
   "cell_type": "code",
   "execution_count": 1,
   "id": "4d92f6e3",
   "metadata": {},
   "outputs": [
    {
     "name": "stdout",
     "output_type": "stream",
     "text": [
      "Requirement already satisfied: Pillow in c:\\users\\admin\\anaconda3\\lib\\site-packages (8.0.1)\n"
     ]
    }
   ],
   "source": [
    "!pip install Pillow"
   ]
  },
  {
   "cell_type": "code",
   "execution_count": 2,
   "id": "cae1f3df",
   "metadata": {},
   "outputs": [],
   "source": [
    "from PIL import Image, ImageFilter"
   ]
  },
  {
   "cell_type": "code",
   "execution_count": 3,
   "id": "9339281f",
   "metadata": {},
   "outputs": [
    {
     "data": {
      "text/plain": [
       "(5120, 3840)"
      ]
     },
     "execution_count": 3,
     "metadata": {},
     "output_type": "execute_result"
    }
   ],
   "source": [
    "im = Image.open('graph.png')\n",
    "im.size"
   ]
  },
  {
   "cell_type": "code",
   "execution_count": 5,
   "id": "c30e80bd",
   "metadata": {},
   "outputs": [],
   "source": [
    "im.save('graph1.png')"
   ]
  },
  {
   "cell_type": "code",
   "execution_count": 7,
   "id": "a181914e",
   "metadata": {},
   "outputs": [],
   "source": [
    "im = Image.open('graph.png')\n",
    "size = (64, 64)\n",
    "im.thumbnail(size)\n",
    "im.save('graph_thumb.png')"
   ]
  },
  {
   "cell_type": "code",
   "execution_count": 9,
   "id": "bb135165",
   "metadata": {},
   "outputs": [],
   "source": [
    "im = Image.open('graph.png')\n",
    "cropImage = im.crop((100, 100, 150, 150))\n",
    "cropImage.save('graph_crop.png')"
   ]
  },
  {
   "cell_type": "code",
   "execution_count": 10,
   "id": "501e81f7",
   "metadata": {},
   "outputs": [],
   "source": [
    "im = Image.open('graph.png')\n",
    "img2 = im.resize((500, 500))\n",
    "img2.save('graph_resize.png')"
   ]
  },
  {
   "cell_type": "code",
   "execution_count": 11,
   "id": "636fcbcc",
   "metadata": {},
   "outputs": [],
   "source": [
    "img3 = im.rotate(90)\n",
    "img3.save('graph_rotate.png')"
   ]
  },
  {
   "cell_type": "code",
   "execution_count": 12,
   "id": "1b33f7b7",
   "metadata": {},
   "outputs": [],
   "source": [
    "im = Image.open('graph.png')\n",
    "blurImage = im.filter(ImageFilter.BLUR)\n",
    "blurImage.save('graph-blur.png')"
   ]
  }
 ],
 "metadata": {
  "kernelspec": {
   "display_name": "Python 3",
   "language": "python",
   "name": "python3"
  },
  "language_info": {
   "codemirror_mode": {
    "name": "ipython",
    "version": 3
   },
   "file_extension": ".py",
   "mimetype": "text/x-python",
   "name": "python",
   "nbconvert_exporter": "python",
   "pygments_lexer": "ipython3",
   "version": "3.8.8"
  }
 },
 "nbformat": 4,
 "nbformat_minor": 5
}
